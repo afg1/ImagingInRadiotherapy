{
 "cells": [
  {
   "cell_type": "markdown",
   "metadata": {},
   "source": [
    "# Basic Python - Debugging\n",
    "In this notebook, I have written some buggy code (or as I call it, code). Your task is to use what you know about python error messages to figure out where the error is, and how to fix it.\n",
    "\n",
    "\n",
    "\n",
    "Pro tip: to make this easier, turn on line numbering! You can do this by pressing Ctrl+M then L"
   ]
  },
  {
   "cell_type": "code",
   "execution_count": null,
   "metadata": {},
   "outputs": [],
   "source": [
    "# As usual, let's start by importing some libraries\n",
    "import os\n",
    "import sipy\n",
    "import matplotlib.pyplot as plt\n",
    "import numpy as np"
   ]
  },
  {
   "cell_type": "code",
   "execution_count": null,
   "metadata": {},
   "outputs": [],
   "source": [
    "## let's take an array of numbers and raise it to a power!\n",
    "import numpy as np\n",
    "\n",
    "randomArray = np.random.uniform(size=(1000,))\n",
    "raise = randomArray**3\n",
    "print(raise)"
   ]
  },
  {
   "cell_type": "code",
   "execution_count": null,
   "metadata": {},
   "outputs": [],
   "source": [
    "## Define a function to calculate the lowest common multiple\n",
    "def lcm(p,q):\n",
    "    p, q = abs(p), abs(q)\n",
    "    m = p * q\n",
    "    if not m: return 0\n",
    "    while True:\n",
    "        p %= q\n",
    "        if not p: return m // q\n",
    "        q %= p\n",
    "        if not q: return m // p\n",
    "        \n",
    "        \n",
    "## Now use it!\n",
    "print(lcm(3,5,7))\n"
   ]
  },
  {
   "cell_type": "code",
   "execution_count": null,
   "metadata": {},
   "outputs": [],
   "source": [
    "## Another way to do lcm uses a greatest common divisor:\n",
    "\n",
    "def gcd(u, v):\n",
    "    return gcd(v, u % v) if v else math.abs(u) ## Euclid's recursive algorithm\n",
    "\n",
    "def lcm(p,q):\n",
    "    return abs(p*q)/gcd(p,q)\n",
    "\n",
    "\n",
    "lcm(3,5)"
   ]
  },
  {
   "cell_type": "code",
   "execution_count": null,
   "metadata": {},
   "outputs": [],
   "source": [
    "## Now try peeking at the files we will need later:\n",
    "\n",
    "with open(\"/Files.txt\", 'r') as files\n",
    "    for yield in files:\n",
    "        print(yield)"
   ]
  },
  {
   "cell_type": "code",
   "execution_count": null,
   "metadata": {},
   "outputs": [],
   "source": [
    "## Write a running fibonacci series\n",
    "\n",
    "\n",
    "def nextFib(n, np1):\n",
    "    return n+np1\n",
    "\n",
    "previous_1 = 0\n",
    "previous_2 = 1\n",
    "\n",
    "for i in range(0, 100):\n",
    "    temp = previous_2\n",
    "    previous_2 = nextFib(previous_1, previous_2 )\n",
    "    print(n, np1)\n",
    "    previous_1 = temp\n",
    "    currentFib = previous_2\n",
    "    \n",
    "    ##only print even numbered iterations\n",
    "    if i % 2 == 0:\n",
    "    \n",
    "    print(i, currentFib)\n",
    "    "
   ]
  },
  {
   "cell_type": "code",
   "execution_count": null,
   "metadata": {},
   "outputs": [],
   "source": [
    "## Let's play with some images\n",
    "from PIL import Image\n",
    "import numpy as np\n",
    "import matplotlib.pyplot as plt\n",
    "logo = np.array(Image.open(\"pythonlogo.jpeg\"))\n",
    "\n",
    "plt.figure(1)\n",
    "plt.imshow(logo)\n",
    "\n",
    "## now, let's flip it and re-display\n",
    "\n",
    "np.flipud(logo)\n",
    "\n",
    "plt.figure(2)\n",
    "plt.imshow(logo)"
   ]
  },
  {
   "cell_type": "code",
   "execution_count": null,
   "metadata": {},
   "outputs": [],
   "source": [
    "## Display the logo at five different rotations\n",
    "from scipy.ndimage import rotate\n",
    "\n",
    "for rot in range(1,5):\n",
    "    plt.figure(rot)\n",
    "    logo_r = rotate(logo, 360/rot)\n",
    "    plt.imshow(logo_r)\n",
    "    \n",
    "    \n",
    "    "
   ]
  },
  {
   "cell_type": "code",
   "execution_count": null,
   "metadata": {},
   "outputs": [],
   "source": []
  }
 ],
 "metadata": {
  "kernelspec": {
   "display_name": "Python 3",
   "language": "python",
   "name": "python3"
  },
  "language_info": {
   "codemirror_mode": {
    "name": "ipython",
    "version": 3
   },
   "file_extension": ".py",
   "mimetype": "text/x-python",
   "name": "python",
   "nbconvert_exporter": "python",
   "pygments_lexer": "ipython3",
   "version": "3.6.4"
  }
 },
 "nbformat": 4,
 "nbformat_minor": 2
}
