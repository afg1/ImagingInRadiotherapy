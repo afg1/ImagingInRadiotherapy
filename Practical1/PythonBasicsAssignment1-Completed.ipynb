{
 "cells": [
  {
   "cell_type": "markdown",
   "metadata": {},
   "source": [
    "# Basic Python: Assignment 1\n",
    "\n",
    "In this notebook, you have to fill in the missing code (or fix buggy code) to do some basic programming tasks. The idea is you should be able to finish these pretty quickly, and get an idea for how python and the notebook system works. When we do more complex stuff (i.e. tomorrow), we will move to using scripts rather than notebooks.\n",
    "\n",
    "## Task 1\n",
    "In this directory is a file called \"Files.txt\". It contains a list of file names, each of which is contained in the directory \"files\". A few files are missing because a cat walked over the keyboard during the file copy procedue. Which files are missing?\n",
    "\n",
    "## Task 2\n",
    "Load the data from the files that are available so that the value inside each file can be quickly found from an integer file ID key. The values are floating point numbers. \n",
    "\n",
    "## Task 3 \n",
    "Produce a histogram of the data. Play around with the number of bins until it looks nice. Try some of the other options like normalisation. Label your axes!\n"
   ]
  },
  {
   "cell_type": "code",
   "execution_count": 1,
   "metadata": {},
   "outputs": [],
   "source": [
    "%matplotlib inline \n",
    "# Make sure this cell is run, and don't change it!"
   ]
  },
  {
   "cell_type": "markdown",
   "metadata": {},
   "source": [
    "# Task 1"
   ]
  },
  {
   "cell_type": "code",
   "execution_count": 2,
   "metadata": {},
   "outputs": [
    {
     "name": "stdout",
     "output_type": "stream",
     "text": [
      "['589155271.txt', '219242066.txt', '728653832.txt']\n"
     ]
    }
   ],
   "source": [
    "# You need to get a list of the files in the directory \"files\"\n",
    "# You then need to compare it against a list generated from the \"Files.txt\" file.\n",
    "# Every pair of students has a unique set of files!\n",
    "# You will need a library to list the files in the directory\n",
    "\n",
    "\n",
    "# Here, import a library to list the files:\n",
    "import os\n",
    "\n",
    "# Open the file containing the list of patients and read it into a list, one line at a time\n",
    "\n",
    "expectedFiles = [] # Start with an empty list\n",
    "\n",
    "# This is a handy way to make sure the file is closed when you're done with it.\n",
    "# For reference, the open command takes two arguments, a file name and an 'open mode' which may be 'r', 'w' or 'a' \n",
    "# Thise mean 'r'ead, 'w'rite and 'a'ppend\n",
    "with open(\"Files.txt\", 'r') as fileList:\n",
    "    for line in fileList:\n",
    "        expectedFiles.append(line.strip())\n",
    "\n",
    "    \n",
    "# Now you have a list of files read from the file, you just need to work out which ones are missing.\n",
    "# First of all, get a list of files in the directory (using a library function)\n",
    "\n",
    "actualFiles = os.listdir(\"files/\")# Simple function goes here!\n",
    "\n",
    "# Now you have two lists, you can compare them to find which files are not in the directory\n",
    "\n",
    "missingFiles = []\n",
    "for aFile in expectedFiles:\n",
    "    if aFile in actualFiles: # I don't think there's a better way...\n",
    "        continue\n",
    "    missingFiles.append(aFile)\n",
    "    \n",
    "print(missingFiles)\n"
   ]
  },
  {
   "cell_type": "markdown",
   "metadata": {},
   "source": [
    "# Task 2\n"
   ]
  },
  {
   "cell_type": "code",
   "execution_count": 3,
   "metadata": {},
   "outputs": [
    {
     "name": "stdout",
     "output_type": "stream",
     "text": [
      "(30.6838960801, 30.6838960801)\n"
     ]
    }
   ],
   "source": [
    "# Now you have your file list, you can loop over it to load them\n",
    "# Think about which data structure is appropriate to meet the goal of the task\n",
    "# Bonus: this can be done in a single line!\n",
    "\n",
    "# Hint: Remember that the file names are just strings, and strings have some methods you may be able to use...\n",
    "# Hint: Look at the code used to read files in the previous task - you could repurpose that...\n",
    "# Hint: Remember that you can change a string into an integer by calling int() on it (provided it is all numbers).\n",
    "\n",
    "filesDict = {}\n",
    "# you will need a for loop to go over the actualFiles list\n",
    "for aFile in actualFiles:\n",
    "    with open(\"files/\" + aFile, 'r') as theFile:\n",
    "        filesDict[int(aFile.split('.')[0])] = float(theFile.read())\n",
    "    \n",
    "\n",
    "# One liner version\n",
    "\n",
    "filesDictOneLine = {int(aFile.split('.')[0]) : float(open(\"files/\" + aFile, 'r').read()) for aFile in actualFiles}\n",
    "\n",
    "print(filesDictOneLine[712687619], filesDict[712687619])\n"
   ]
  },
  {
   "cell_type": "markdown",
   "metadata": {},
   "source": [
    "# Task 3"
   ]
  },
  {
   "cell_type": "code",
   "execution_count": 4,
   "metadata": {},
   "outputs": [
    {
     "data": {
      "image/png": "[encoded data removed]",
      "text/plain": [
       "<matplotlib.figure.Figure at 0x105bff810>"
      ]
     },
     "metadata": {},
     "output_type": "display_data"
    }
   ],
   "source": [
    "# You will need to import a library to produce the histogram.\n",
    "# Check the documentation to see which functions you need, and what arguments they take.\n",
    "\n",
    "# Import a library\n",
    "import matplotlib.pyplot as plt # Should be obvious which one I mean!\n",
    "\n",
    "# Now create the histogram \n",
    "# There are loads of things to play with in plotting - have a go with some of them here (e.g. normalisation, colours, etc):\n",
    "plt.hist(filesDict.values(), bins=10, normed=True)\n",
    "\n",
    "# Label the axes!\n",
    "plt.xlabel(\"Number\")\n",
    "plt.ylabel(\"Frequency \")\n",
    "\n",
    "plt.show()\n",
    "\n"
   ]
  }
 ],
 "metadata": {
  "kernelspec": {
   "display_name": "Python 3",
   "language": "python",
   "name": "python3"
  },
  "language_info": {
   "codemirror_mode": {
    "name": "ipython",
    "version": 3
   },
   "file_extension": ".py",
   "mimetype": "text/x-python",
   "name": "python",
   "nbconvert_exporter": "python",
   "pygments_lexer": "ipython3",
   "version": "3.6.4"
  }
 },
 "nbformat": 4,
 "nbformat_minor": 1
}
